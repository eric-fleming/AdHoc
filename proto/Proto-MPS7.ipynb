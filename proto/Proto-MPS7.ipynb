{
 "cells": [
  {
   "cell_type": "code",
   "execution_count": 1,
   "metadata": {},
   "outputs": [],
   "source": [
    "# Dependencies\n",
    "import pandas as pd\n",
    "import numpy as np\n",
    "import os as os\n",
    "import struct"
   ]
  },
  {
   "cell_type": "code",
   "execution_count": 1,
   "metadata": {},
   "outputs": [
    {
     "name": "stdout",
     "output_type": "stream",
     "text": [
      "b'MPS7\\x01\\x00\\x00\\x00G\\x00S\\t\\'\\xd19gG\\xc0E\\xd9\\x91!@\\x82\\xe21\\xd6\\xd7.\\x8d\\x01Tmqj\\x14\\xa2\\xb0\\xf5\\xd4\\xbb\\x8f\\xe2@\\x89\\xc9\\ts\\x81\\x93j\\x00SU\\xf0 \\x0e$\\x8bQN\\x16\\x00\\xe7@\\x84\\xe5bgSe6\\x02R\\xe1\\xf4\\xbb3\\xaf\\xd3yAC\\x90\\x89\\x00Tr\\r\\xac^\\xe2\\xde\\xba\\xa8X\\xbft@x\\xdb\\xd1\\xf8\\x00\\xc4:\\x01Tl\\xee\\xa5n\\xbe\\r\\xe7\\xc0\\xf8\\xf4\\xf6@\\x83\\x01\\x13\\x0c$L\\xda\\x02S\\xe8<\\xba\\x02[\\x10B\\x9c}R\\xfd\\x00S\\xdd\\xfc\\xf4Z\\xf9\\xa8\\x10\\x8c\\x0c\\x9b\\xee@dj\\x81\\xed\\xe3\\xee\\xdf\\x00To\\xd5\\xfe^\\xb2\\x9cw\\x19\\xafS\\xba@x\\t\\xde\\x08\\xe0{v\\x03R\\xd2\\xb7\\xaec\\x9fu\\xa1 \\xdc\\xcb\\'\\x01S\\x97\\xce\\xf9)\\xe3\\xc1\\x98Cns\\xda@cU>\\xb4\\x96y\\xc8\\x00S\\xcd\\xac\\xdc\\x15\\x12\\xc3\\xf6\\xa0-5\\x10@\\x8b\\x93\\xd3%\\x84N\\x95\\x03TBR\\xa1\"aMo\\xbe\\xca3j\\x01T$\\x9e[-\\x89\\xc8 \\xf5\\xc3S\\xcf@\\x89\\xe4\\x84\\x8b\\xfa\\xc9A\\x02Tu\\x12\\x07\\t\\x82^\\x11p97K\\x00S\\xc3/\\xeb?\\xcbbl?\\x1dt\\'@\\x84v\\xdf\\xdb\\n|@\\x02T|\\xfc>7\\xab6A\\xfe=\\xeay\\x00R\\xc9\\xc1\\xd8\\\\E\\x10x\\x96\\xf2\\x96\\t@q\\xe4\\xad\\xf6\\xc9\\x92\\xfa\\x03S\\x86\"\\xfan\\xbe\\r\\xe7\\xc0\\xf8\\xf4\\xf6\\x00S\\xb5\\xddwLs\\x90\\xeb\\xb0E\\x9c\\xd3@\\x89b\\xf0A\\xfe\\t2\\x03R\\xef-\\xab\\x0c\\x8cF\\x94\\xa5J\\xf7G\\x00T\\t\\xf3\\xcb\\x1b\\xf9\\x8b\\xe2\\xa9\\xd7\\x8ds@\\x82\\xc4\\xc2\\x18\\x9f\\xfb\\xf0\\x01T[m\\xf45\\xc9\\xae\\xc1d\\xcfu\\xfd@\\x8d\\xb5\\xb8\\x01s\\x15\\xff\\x01S\\xc8]\\xfa]\\xee\\xf4\\x8e\\xe6[\\x1c\\xda@\\x82\\xa2\\x0e\\xfe:\\x93a\\x02S\\xb8\\xce\\x0fll\\r\\x12v\\xbebb\\x01T\\x92\\xe5\\\\\\x11N\\xa6\\xb6\\xe9\\x13VB@k\\xc0,\\xf6\\x0bwS\\x00S\\xc2\\xe9q\"\\x18\\xccqf\\xa89\\x87@o\\x12\\xb7\\xc2V\\x05\\xac\\x00T4%\\xcev\\x0b\\r\"\\x05\\x01C\\xa6@\\x8d\\xdaU\\xf2i+\\x99\\x00R\\xc9s\\x81:\\xae>>J0V\\x05@\\x8bK\\x92ma.\\x85\\x00T3\\xeb\\x8b4\\xb4\\xa3\\xc8\\x13\\xd3F\\xb5@sA\\xa1]\\xfa9\\x8e\\x02R\\xfc#\\x19\\x1cI\\xb0\\xbc\\xf90\\xb4\\xe0\\x00SE\\xc6\\xfdg\\xaeuD!\\t\\x1b\\xce@\\x89\\xd6\\xaa\\x1b\\xf6E\\x8a\\x02Skt\\x9a0\\xc4\\x12\\xb54,\\x1c\\xdb\\x00SG\\xab\\xacB!V\\xc2L\\x87L\\xa3@~\\x01\\xd4\\xb9\\x1b{\\xfd\\x00TK~\\xdd^\\xf4\\xe8\\x1e\\xdeEa\\xad@\\x80\\xb6\\xab\\x7f?R\\xb9\\x00T\\'\\t{r\\x12n\\x84\\xf0\\xa7\\xae\\xc6@\\x8f0\\xf1  V\\xd4\\x03S\\xde\\xbf(t\\xeaB\\xaf\\xc1-\\x15N\\x00S&\\tR\\x11\\x94\\x14\\xe5T5\\xcf\\xfc@y\\t\\\\\\xca\\x9f\\xb5\\xd2\\x00S:hJk2\\x15Y\\xb4v\\x97\\xc6@qw\\x86\\xf8\\xd8\\xb7\\xba\\x00S\\x1b\\x1a\\xafk\\xa5\\xaaV\\xe6\\xa5\\x1fW@dX|\\xb2=\\xde[\\x03To\\x07\\x13wU\\xe2\\x80\\x95\\x9e@\\xfd\\x00R\\xdc\\x8b\\xeeA\\x92!F\\x12\\x96b\\x04@a\\xca\\xb7X\\x8c\\xccL\\x00R\\xd7q\\n%Yz\\x841sw\\x88@\\x83\\xc92\\x9fX\\xae\\x90\\x02T\\x8a\\xc5\\xa1\\x14HC(\\xe9\\x0bQ\\xa2\\x01S\\x1c4sM\\xba{\\x0f\\x9d\\xa1\\xd7\\xeb@\\x87*oF\\x06\\x94x\\x00Te\\x94j@\\xdd\\xa56\\tf<\\xf1@\\x7f\\xd5\\xcd)\\x86\\xd0\\x12\\x00To\\xcd\\x1e]!@d\\x01\\x81S\\xda@s]j\\x9bI\\xf8F\\x00SA+\\xb9\\x03\\\\\\xa8\\rrR\\x1a\\x90@{z\\x94\\xc7\\x17(G\\x02S\\xd6y\\xe8y\\x97\\x8c\\x88\\x84\\xbc\\x935\\x00R\\xf5\\x1fk\\x17>^n\\t\\xd0\\xc9\\x10@q,\\x13m\\xfc({\\x00T}\\xd5\\xfb;D\\xe0\\xdf\\xb5\\x9c\\x1f\\xcb@x\\x8d\\xb1\\xa0\\xe7\\xcf\\xd2\\x00S\\xb2L\\xb6\\x0cs\\x11o\\x035\\xca\\xc7@\\x82\\xc6\\x8bh\\x92<8\\x03S\\x96\\x00S\\x11\\xaf\\xb41\\xf6\\xbd4O\\x01S#\\xa8\\'\\n\\xf2V\\x03\\x83\\xd1y\\t@\\x85W\\xd0\\xd5V\\xaa3\\x00T\\x97B\\x97\\x15\\x12\\xc3\\xf6\\xa0-5\\x10@X\\xb5F,\\xc5\\x92W\\x00S\\xbe\\x9a\\xa5\\x00\\xd9\\'\\x04%\\xc046@q\\x05\\x92\\xa1\\xfab\\xe5\\x00S\\xc0H\\x1b9\\xe1\\xd1}t\\xa4O\\x97@\\x81c~\\xf7\\xd0BJ\\x00S\\xa7\\xc4q5!e\\xc1\\x86v\\x907@\\x80\\xcfJ`\\xce[\\\\\\x02T[|pLO\\x95\\x10w\\t\\xec\\'\\x00R\\xd6\\x16\\x8a;h\\x9aV\\xe0\\x14/\\xb7@s\\x97(r)\\xe2\\xeb\\x00S-\\xcdZ[8\\x87J*#@\\xe1@\\x86\\x1a\\xb87\\x1a\\xf1\\xea\\x03T5\\x06\\xcc\\x10\\xca\\xd4\\xc6\\x0f\\x94\\x90P\\x01S^mt}!\\xeb\\xf5\\xc8\\x16\\xce\\xd2@\\x81BXT\\xb8c\\\\\\x00R\\xf5\\x14qz\\xf1\\x95\\x0e\\x92\\x9d\\x89\\xd3@\\x8b\\xd9\\xe9\\xe3\\xedO\\x82\\x01Tr\\r\\xac^\\xe2\\xde\\xba\\xa8X\\xbft@x\\xdb\\xd1\\xf8\\x00\\xc4:\\x01To\\xd5\\xfe^\\xb2\\x9cw\\x19\\xafS\\xba@x\\t\\xde\\x08\\xe0{v\\x01S\\xc2\\xe9q\"\\x18\\xccqf\\xa89\\x87@o\\x12\\xb7\\xc2V\\x05\\xac\\x01T4%\\xcev\\x0b\\r\"\\x05\\x01C\\xa6@\\x8d\\xdaU\\xf2i+\\x99\\x01R\\xd7q\\n%Yz\\x841sw\\x88@\\x83\\xc92\\x9fX\\xae\\x90\\x01To\\xcd\\x1e]!@d\\x01\\x81S\\xda@s]j\\x9bI\\xf8F\\x01R\\xf5\\x1fk\\x17>^n\\t\\xd0\\xc9\\x10@q,\\x13m\\xfc({\\x01S-\\xcdZ[8\\x87J*#@\\xe1@\\x86\\x1a\\xb87\\x1a\\xf1\\xea\\x02S\\xda\"\\xf5Me\\x82!\\x07\\xfc\\xfdR'\n"
     ]
    }
   ],
   "source": [
    "\n",
    "#read it\n",
    "#MPS7_data = pd.read_csv(StringIO('txnlog.dat'), sep=\"\\s+\",)\n",
    "\n",
    "with open(\"txnlog.dat\", \"rb\") as binary_file:\n",
    "    data = binary_file.read()\n",
    "    print(data)\n",
    "\n"
   ]
  },
  {
   "cell_type": "code",
   "execution_count": 2,
   "metadata": {},
   "outputs": [
    {
     "name": "stdout",
     "output_type": "stream",
     "text": [
      "---- start of header ----\n",
      "MPS7\n",
      "1\n",
      "71\n",
      "---- end of header ----\n"
     ]
    },
    {
     "ename": "NameError",
     "evalue": "name 'pd' is not defined",
     "output_type": "error",
     "traceback": [
      "\u001b[0;31m---------------------------------------------------------------------------\u001b[0m",
      "\u001b[0;31mNameError\u001b[0m                                 Traceback (most recent call last)",
      "\u001b[0;32m<ipython-input-2-3d7b9c667b31>\u001b[0m in \u001b[0;36m<module>\u001b[0;34m\u001b[0m\n\u001b[1;32m     14\u001b[0m \u001b[0;32mwith\u001b[0m \u001b[0mopen\u001b[0m\u001b[0;34m(\u001b[0m\u001b[0;34m\"txnlog.dat\"\u001b[0m\u001b[0;34m,\u001b[0m \u001b[0;34m\"rb\"\u001b[0m\u001b[0;34m)\u001b[0m \u001b[0;32mas\u001b[0m \u001b[0mbinary_file\u001b[0m\u001b[0;34m:\u001b[0m\u001b[0;34m\u001b[0m\u001b[0;34m\u001b[0m\u001b[0m\n\u001b[1;32m     15\u001b[0m \u001b[0;34m\u001b[0m\u001b[0m\n\u001b[0;32m---> 16\u001b[0;31m     \u001b[0mMPS7_dataframe\u001b[0m \u001b[0;34m=\u001b[0m \u001b[0mpd\u001b[0m\u001b[0;34m.\u001b[0m\u001b[0mDataFrame\u001b[0m\u001b[0;34m(\u001b[0m\u001b[0mcolumns\u001b[0m\u001b[0;34m=\u001b[0m\u001b[0;34m[\u001b[0m\u001b[0;34m'record type'\u001b[0m\u001b[0;34m,\u001b[0m\u001b[0;34m'unix timestamp'\u001b[0m\u001b[0;34m,\u001b[0m\u001b[0;34m'user ID'\u001b[0m\u001b[0;34m,\u001b[0m\u001b[0;34m'amount USD'\u001b[0m\u001b[0;34m]\u001b[0m\u001b[0;34m)\u001b[0m\u001b[0;34m\u001b[0m\u001b[0;34m\u001b[0m\u001b[0m\n\u001b[0m\u001b[1;32m     17\u001b[0m \u001b[0;34m\u001b[0m\u001b[0m\n\u001b[1;32m     18\u001b[0m     \u001b[0mbinary_file\u001b[0m\u001b[0;34m.\u001b[0m\u001b[0mseek\u001b[0m\u001b[0;34m(\u001b[0m\u001b[0;36m9\u001b[0m\u001b[0;34m,\u001b[0m\u001b[0;36m0\u001b[0m\u001b[0;34m)\u001b[0m\u001b[0;34m\u001b[0m\u001b[0;34m\u001b[0m\u001b[0m\n",
      "\u001b[0;31mNameError\u001b[0m: name 'pd' is not defined"
     ]
    }
   ],
   "source": [
    "# Extract header\n",
    "with open(\"txnlog.dat\", \"rb\") as binary_file:\n",
    "    print(\"---- start of header ----\")\n",
    "    binary_file.seek(0,0)\n",
    "    name = str(binary_file.read(4), 'utf-8')\n",
    "    version = int.from_bytes(binary_file.read(1), \"big\")\n",
    "    records = int.from_bytes(binary_file.read(4), \"big\", signed=False)\n",
    "    print(name)\n",
    "    print(version)\n",
    "    print(records)\n",
    "    print(\"---- end of header ----\")\n",
    "\n",
    "# Extract body\n",
    "with open(\"txnlog.dat\", \"rb\") as binary_file:\n",
    "    \n",
    "    MPS7_dataframe = pd.DataFrame(columns=['record type','unix timestamp','user ID','amount USD'])\n",
    "    \n",
    "    binary_file.seek(9,0)\n",
    "    count = 0\n",
    "    \n",
    "    \n",
    "    while count < records:\n",
    "        record_type = int.from_bytes(binary_file.read(1), \"big\")\n",
    "        time = int.from_bytes(binary_file.read(4), \"big\")\n",
    "        userID = int.from_bytes(binary_file.read(8), \"big\")\n",
    "        \n",
    "        if record_type == 0 or record_type == 1:\n",
    "            amount = struct.unpack('>d', binary_file.read(8))[0]\n",
    "            MPS7_dataframe = MPS7_dataframe.append({\n",
    "                'record type': record_type,\n",
    "                'unix timestamp': time,\n",
    "                'user ID': userID,\n",
    "                'amount USD': amount\n",
    "            }, ignore_index=True)\n",
    "            \n",
    "        if record_type == 2 or record_type == 3:\n",
    "            \n",
    "            MPS7_dataframe = MPS7_dataframe.append({\n",
    "                'record type': record_type,\n",
    "                'unix timestamp': time,\n",
    "                'user ID': userID\n",
    "            }, ignore_index=True)\n",
    "        count = count +1;\n",
    "    MPS7_dataframe['record type']=MPS7_dataframe['record type'].replace({0:'Debit',1:'Credit',2:'StartAutopay',3:'EndAutopay'})\n",
    "\n",
    "print('dataframe shape: ',MPS7_dataframe.shape)\n",
    "print('count: ',count)\n",
    "MPS7_dataframe.head(20)"
   ]
  },
  {
   "cell_type": "code",
   "execution_count": 7,
   "metadata": {},
   "outputs": [
    {
     "name": "stdout",
     "output_type": "stream",
     "text": [
      "---- Results ----\n",
      "total credit amount= 9366.019984181883\n",
      "total debit amount= 18203.69953340208\n",
      "autopays started= 10\n",
      "autopays ended= 8\n",
      "balance for user 2456938384156277127= 0.0\n",
      "---- End of Results ----\n"
     ]
    }
   ],
   "source": [
    "#ANSWERS with MPS7_dataframe\n",
    "\n",
    "#What is the total amount in dollars of credits?\n",
    "print('---- Results ----')\n",
    "credits_df = MPS7_dataframe[MPS7_dataframe['record type'] == 'Credit']\n",
    "credit_sum = credits_df['amount USD'].sum()\n",
    "print('total credit amount=', credit_sum)\n",
    "\n",
    "\n",
    "#What is the total amount in dollars of debits?\n",
    "debits_df = MPS7_dataframe[MPS7_dataframe['record type'] == 'Debit']\n",
    "debits_sum = debits_df['amount USD'].sum()\n",
    "print('total debit amount=', debits_sum)\n",
    "\n",
    "\n",
    "#How many autopays were started?\n",
    "autopay_count_df = MPS7_dataframe[MPS7_dataframe['record type'] == 'StartAutopay']\n",
    "count = autopay_count_df.shape[0]\n",
    "print('autopays started=', count)\n",
    "\n",
    "\n",
    "#How many autopays were ended?\n",
    "autopay_end_count_df = MPS7_dataframe[MPS7_dataframe['record type'] == 'EndAutopay']\n",
    "count = autopay_end_count_df.shape[0]\n",
    "print('autopays ended=', count)\n",
    "\n",
    "\n",
    "#What is balance of user ID 2456938384156277127?\n",
    "person = MPS7_dataframe[MPS7_dataframe['user ID'] == 2456938384156277127]\n",
    "balance = 0\n",
    "for index, row in person.iterrows():\n",
    "    if row['record type'] == 'Debit':\n",
    "        balance = balance - row['amount USD']\n",
    "    if row['record type'] == 'Credit':\n",
    "        balance = balance + row['amount USD']\n",
    "\n",
    "print('balance for user 2456938384156277127=', balance)\n",
    "\n",
    "print('---- End of Results ----')\n"
   ]
  },
  {
   "cell_type": "code",
   "execution_count": null,
   "metadata": {},
   "outputs": [],
   "source": []
  }
 ],
 "metadata": {
  "kernelspec": {
   "display_name": "Python 3",
   "language": "python",
   "name": "python3"
  },
  "language_info": {
   "codemirror_mode": {
    "name": "ipython",
    "version": 3
   },
   "file_extension": ".py",
   "mimetype": "text/x-python",
   "name": "python",
   "nbconvert_exporter": "python",
   "pygments_lexer": "ipython3",
   "version": "3.7.3"
  }
 },
 "nbformat": 4,
 "nbformat_minor": 2
}
